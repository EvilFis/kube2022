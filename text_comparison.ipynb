{
 "cells": [
  {
   "cell_type": "code",
   "execution_count": 1,
   "id": "5025c8bb-78dc-4ac9-bdba-f6cef88ff184",
   "metadata": {},
   "outputs": [],
   "source": [
    "import re\n",
    "import nltk\n",
    "import json\n",
    "import pymorphy2\n",
    "import numpy as np\n",
    "\n",
    "from sklearn.metrics.pairwise import cosine_similarity\n",
    "from sklearn.feature_extraction.text import CountVectorizer, TfidfVectorizer"
   ]
  },
  {
   "cell_type": "code",
   "execution_count": 2,
   "id": "c6193409-ab10-4662-a5c4-c3c284cf9eb4",
   "metadata": {},
   "outputs": [
    {
     "name": "stderr",
     "output_type": "stream",
     "text": [
      "[nltk_data] Downloading package punkt to\n",
      "[nltk_data]     C:\\Users\\smoot\\AppData\\Roaming\\nltk_data...\n",
      "[nltk_data]   Package punkt is already up-to-date!\n",
      "[nltk_data] Downloading package stopwords to\n",
      "[nltk_data]     C:\\Users\\smoot\\AppData\\Roaming\\nltk_data...\n",
      "[nltk_data]   Package stopwords is already up-to-date!\n"
     ]
    },
    {
     "data": {
      "text/plain": [
       "True"
      ]
     },
     "execution_count": 2,
     "metadata": {},
     "output_type": "execute_result"
    }
   ],
   "source": [
    "nltk.download('punkt')\n",
    "nltk.download('stopwords')"
   ]
  },
  {
   "cell_type": "code",
   "execution_count": 3,
   "id": "adb68a2e-25fc-4892-bbff-1d212ccdb243",
   "metadata": {},
   "outputs": [],
   "source": [
    "with open('./setting.json', 'r', encoding='utf-8') as f_setting:\n",
    "    setting = json.load(f_setting)"
   ]
  },
  {
   "cell_type": "code",
   "execution_count": 4,
   "id": "62b37a61-d98e-4b20-8e4a-0afadb8f0780",
   "metadata": {},
   "outputs": [],
   "source": [
    "def text_tokenizer(text: str):\n",
    "    morph = pymorphy2.MorphAnalyzer(lang='ru')\n",
    "    \n",
    "    text = text.lower().replace(\"ё\", \"е\")\n",
    "    text = re.sub('((www\\.[^\\s]+)|(https?://[^\\s]+))', '', text)\n",
    "    text = re.sub('@[^\\s]+', '', text)\n",
    "    text = re.sub('[^a-zA-Zа-яА-Я1-9]+', ' ', text)\n",
    "    text = re.sub(' +', ' ', text)\n",
    "    \n",
    "    tokenize = [token for token in nltk.word_tokenize(text)]\n",
    "    remove_stopW = [clear_txt for clear_txt in tokenize if clear_txt not in setting['stopwords']]\n",
    "    morph_text = [morph.parse(m_text)[0].normal_form for m_text in remove_stopW]\n",
    "    \n",
    "    return morph_text"
   ]
  },
  {
   "cell_type": "code",
   "execution_count": 10,
   "id": "37d20833-99dd-4375-8bf5-f579f5182806",
   "metadata": {},
   "outputs": [],
   "source": [
    "text = ['Машинист, Иванов Иван Иванович, электросостава №, следую по маршруту А-Б', 'Машинист,Иванов Иван Иванович продолжайте следование по маршруту А-Б']\n",
    "text_corpus = [text_tokenizer(i) for i in text]"
   ]
  },
  {
   "cell_type": "code",
   "execution_count": 11,
   "id": "3dd8345f-e2bf-4d13-8331-c063393330bd",
   "metadata": {},
   "outputs": [
    {
     "data": {
      "text/plain": [
       "array([[1, 1, 1, 1, 1, 1, 0, 0, 1, 1],\n",
       "       [1, 1, 1, 1, 1, 1, 1, 1, 0, 0]], dtype=int64)"
      ]
     },
     "execution_count": 11,
     "metadata": {},
     "output_type": "execute_result"
    }
   ],
   "source": [
    "ohe_model = CountVectorizer(tokenizer=text_tokenizer).fit_transform(text)\n",
    "ohe = ohe_model.toarray()\n",
    "ohe"
   ]
  },
  {
   "cell_type": "code",
   "execution_count": 12,
   "id": "7ad3f9a9-76aa-48fd-b3fb-1b816ed13167",
   "metadata": {},
   "outputs": [
    {
     "data": {
      "text/plain": [
       "array([[1.  , 0.75],\n",
       "       [0.75, 1.  ]])"
      ]
     },
     "execution_count": 12,
     "metadata": {},
     "output_type": "execute_result"
    }
   ],
   "source": [
    "cosine_similarity(ohe_model)"
   ]
  },
  {
   "cell_type": "code",
   "execution_count": 13,
   "id": "7f107c1d-279c-4e45-a12a-f4ce988ec263",
   "metadata": {},
   "outputs": [],
   "source": [
    "def cosine_sim_vector(vec1, vec2):\n",
    "    vec1 = vec1.reshape(1, -1)\n",
    "    vec2 = vec2.reshape(1, -1)\n",
    "    \n",
    "    return cosine_similarity(vec1, vec2)[0][0]"
   ]
  },
  {
   "cell_type": "code",
   "execution_count": 14,
   "id": "24f0cd0e-f380-4a16-96a3-30ce9df08560",
   "metadata": {},
   "outputs": [
    {
     "name": "stdout",
     "output_type": "stream",
     "text": [
      "Текста схожи на: 75.0%\n"
     ]
    }
   ],
   "source": [
    "print(f\"Текста схожи на: {round(cosine_sim_vector(ohe[0], ohe[1]) * 100, 2)}%\")"
   ]
  },
  {
   "cell_type": "markdown",
   "id": "7842bcb4-59d2-47fe-8634-8d17f0563805",
   "metadata": {},
   "source": [
    "## Парсинг текста"
   ]
  },
  {
   "cell_type": "code",
   "execution_count": 20,
   "id": "8bfc713b-a1aa-42a1-8b8e-595674d001a0",
   "metadata": {},
   "outputs": [
    {
     "name": "stdin",
     "output_type": "stream",
     "text": [
      "Введите текст, согласно шаблону: <t> сообщение\n",
      "  <s>Машинист поезда №125 следует по маршруту №39 <s> Машинист поезда №125 следование по маршруту №39 подтверждаю\n"
     ]
    }
   ],
   "source": [
    "text = input(\"Введите текст, согласно шаблону: <t> сообщение\\n \")"
   ]
  },
  {
   "cell_type": "code",
   "execution_count": 24,
   "id": "ae385b40-d66f-40f9-8029-8a3945843805",
   "metadata": {},
   "outputs": [
    {
     "data": {
      "text/plain": [
       "['',\n",
       " 'Машинист поезда №125 следует по маршруту №39 ',\n",
       " ' Машинист поезда №125 следование по маршруту №39 подтверждаю']"
      ]
     },
     "execution_count": 24,
     "metadata": {},
     "output_type": "execute_result"
    }
   ],
   "source": [
    "textArr = text.split('<s>')\n",
    "textArr"
   ]
  },
  {
   "cell_type": "code",
   "execution_count": 26,
   "id": "925cdaee-2a8c-42bd-bf83-83608234942c",
   "metadata": {},
   "outputs": [
    {
     "data": {
      "text/plain": [
       "array([[0, 0, 0, 0, 0, 0, 0, 0],\n",
       "       [1, 1, 1, 1, 0, 1, 0, 1],\n",
       "       [1, 1, 1, 1, 1, 1, 1, 0]], dtype=int64)"
      ]
     },
     "execution_count": 26,
     "metadata": {},
     "output_type": "execute_result"
    }
   ],
   "source": [
    "ohe_model = CountVectorizer(tokenizer=text_tokenizer).fit_transform(textArr)\n",
    "ohe = ohe_model.toarray()\n",
    "ohe"
   ]
  },
  {
   "cell_type": "code",
   "execution_count": 27,
   "id": "ba71fc22-bffd-4e45-a35c-fc5b57190b9f",
   "metadata": {},
   "outputs": [
    {
     "name": "stdout",
     "output_type": "stream",
     "text": [
      "Текста схожи на: 77.15%\n"
     ]
    }
   ],
   "source": [
    "print(f\"Текста схожи на: {round(cosine_sim_vector(ohe[1], ohe[2]) * 100, 2)}%\")"
   ]
  },
  {
   "cell_type": "raw",
   "id": "5f9a5021-3110-4980-879f-7ed0620b703e",
   "metadata": {},
   "source": [
    " <s>Машинист поезда №125 следует по маршруту №39 <s> Машинист поезда №125 следование по маршруту №39 подтверждаю"
   ]
  }
 ],
 "metadata": {
  "kernelspec": {
   "display_name": "Python 3 (ipykernel)",
   "language": "python",
   "name": "python3"
  },
  "language_info": {
   "codemirror_mode": {
    "name": "ipython",
    "version": 3
   },
   "file_extension": ".py",
   "mimetype": "text/x-python",
   "name": "python",
   "nbconvert_exporter": "python",
   "pygments_lexer": "ipython3",
   "version": "3.9.7"
  }
 },
 "nbformat": 4,
 "nbformat_minor": 5
}
