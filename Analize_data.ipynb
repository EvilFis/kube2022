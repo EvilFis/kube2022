{
 "cells": [
  {
   "cell_type": "code",
   "execution_count": 1,
   "id": "d3670a15-7df8-4a60-8a69-4c6c907dad89",
   "metadata": {},
   "outputs": [],
   "source": [
    "import nltk\n",
    "import string\n",
    "import numpy as np\n",
    "import pandas as pd\n",
    "import seaborn as sns\n",
    "import matplotlib.pyplot as plt\n",
    "\n",
    "from wordcloud import WordCloud\n",
    "from sklearn.model_selection import train_test_split\n",
    "from sklearn.feature_extraction.text import TfidfVectorizer\n",
    "\n",
    "%matplotlib inline"
   ]
  },
  {
   "cell_type": "markdown",
   "id": "db924d45-f31a-4381-91c6-c7c79827afe3",
   "metadata": {},
   "source": [
    "## Загрзука данных"
   ]
  },
  {
   "cell_type": "markdown",
   "id": "5a469c92-75cf-4b45-8b2f-b084af22bbfe",
   "metadata": {},
   "source": [
    "Данные представлены в файле форматом `.txt`. Каждый из текстов разделен на категории:\n",
    "\n",
    "* __label__NORMAL - нейтральный комментарий\n",
    "* __label__INSULT - комментарии, которые унижают человека\n",
    "* __label__THREAT - комментарии с явным намерением навредить другому человеку\n",
    "* __label__OBSCENITY - комментарии, содержащие описание или угрозу сексуального насилия"
   ]
  },
  {
   "cell_type": "code",
   "execution_count": 2,
   "id": "4644bbe5-8c17-44dc-b2c4-bdf63aa2e38d",
   "metadata": {},
   "outputs": [],
   "source": [
    "data_list = []\n",
    "\n",
    "with open('./dataset.txt', 'r', encoding='utf-8') as db:\n",
    "    for line in db:\n",
    "        labels = line.split()[0]\n",
    "        text = line[len(labels)+1:].strip()\n",
    "        labels = labels.split(',')[0]\n",
    "        type_txt = 0\n",
    "        if labels == '__label__NORMAL': \n",
    "            type_txt = 0\n",
    "        else:\n",
    "            type_txt = 1\n",
    "        \n",
    "        data_list.append((text, type_txt))"
   ]
  },
  {
   "cell_type": "code",
   "execution_count": 3,
   "id": "55ec2351-80d4-49c6-ab86-acaf303903e1",
   "metadata": {},
   "outputs": [
    {
     "data": {
      "text/html": [
       "<div>\n",
       "<style scoped>\n",
       "    .dataframe tbody tr th:only-of-type {\n",
       "        vertical-align: middle;\n",
       "    }\n",
       "\n",
       "    .dataframe tbody tr th {\n",
       "        vertical-align: top;\n",
       "    }\n",
       "\n",
       "    .dataframe thead th {\n",
       "        text-align: right;\n",
       "    }\n",
       "</style>\n",
       "<table border=\"1\" class=\"dataframe\">\n",
       "  <thead>\n",
       "    <tr style=\"text-align: right;\">\n",
       "      <th></th>\n",
       "      <th>text</th>\n",
       "      <th>type</th>\n",
       "    </tr>\n",
       "  </thead>\n",
       "  <tbody>\n",
       "    <tr>\n",
       "      <th>0</th>\n",
       "      <td>скотина! что сказать</td>\n",
       "      <td>1</td>\n",
       "    </tr>\n",
       "    <tr>\n",
       "      <th>1</th>\n",
       "      <td>я сегодня проезжала по рабочей и между домами ...</td>\n",
       "      <td>0</td>\n",
       "    </tr>\n",
       "    <tr>\n",
       "      <th>2</th>\n",
       "      <td>очередной лохотрон. зачем придумывать очередно...</td>\n",
       "      <td>0</td>\n",
       "    </tr>\n",
       "    <tr>\n",
       "      <th>3</th>\n",
       "      <td>ретро дежавю ... сложно понять чужое сердце , ...</td>\n",
       "      <td>0</td>\n",
       "    </tr>\n",
       "    <tr>\n",
       "      <th>4</th>\n",
       "      <td>а когда мы статус агрогородка получили?</td>\n",
       "      <td>0</td>\n",
       "    </tr>\n",
       "  </tbody>\n",
       "</table>\n",
       "</div>"
      ],
      "text/plain": [
       "                                                text  type\n",
       "0                               скотина! что сказать     1\n",
       "1  я сегодня проезжала по рабочей и между домами ...     0\n",
       "2  очередной лохотрон. зачем придумывать очередно...     0\n",
       "3  ретро дежавю ... сложно понять чужое сердце , ...     0\n",
       "4            а когда мы статус агрогородка получили?     0"
      ]
     },
     "execution_count": 3,
     "metadata": {},
     "output_type": "execute_result"
    }
   ],
   "source": [
    "df = pd.DataFrame(data_list, columns=[\"text\", \"type\"])\n",
    "df.head()"
   ]
  },
  {
   "cell_type": "code",
   "execution_count": 4,
   "id": "dfb9d8de-a70a-42b3-98df-bad913aa4029",
   "metadata": {},
   "outputs": [
    {
     "data": {
      "image/png": "[encoded data removed]",
      "text/plain": [
       "<Figure size 432x288 with 1 Axes>"
      ]
     },
     "metadata": {},
     "output_type": "display_data"
    }
   ],
   "source": [
    "plt.pie(df.type.value_counts(), labels=[0,1], autopct=\"%.2f\")\n",
    "None"
   ]
  },
  {
   "cell_type": "code",
   "execution_count": 5,
   "id": "dfe29dc8-75cf-4f07-b963-dabe14139a62",
   "metadata": {},
   "outputs": [],
   "source": [
    "sample_size = min(df[df['type'] == 0].shape[0], df[df['type'] == 1].shape[0])\n",
    "raw_data = np.concatenate((df[df['type'] == 0].values[:sample_size],\n",
    "                           df[df['type'] == 1].values[:sample_size]), axis=0)"
   ]
  },
  {
   "cell_type": "code",
   "execution_count": 6,
   "id": "52dbc7bf-27d9-43e3-aa41-599ce6bc14d0",
   "metadata": {},
   "outputs": [
    {
     "data": {
      "text/html": [
       "<div>\n",
       "<style scoped>\n",
       "    .dataframe tbody tr th:only-of-type {\n",
       "        vertical-align: middle;\n",
       "    }\n",
       "\n",
       "    .dataframe tbody tr th {\n",
       "        vertical-align: top;\n",
       "    }\n",
       "\n",
       "    .dataframe thead th {\n",
       "        text-align: right;\n",
       "    }\n",
       "</style>\n",
       "<table border=\"1\" class=\"dataframe\">\n",
       "  <thead>\n",
       "    <tr style=\"text-align: right;\">\n",
       "      <th></th>\n",
       "      <th>text</th>\n",
       "      <th>type</th>\n",
       "    </tr>\n",
       "  </thead>\n",
       "  <tbody>\n",
       "    <tr>\n",
       "      <th>0</th>\n",
       "      <td>я сегодня проезжала по рабочей и между домами ...</td>\n",
       "      <td>0</td>\n",
       "    </tr>\n",
       "    <tr>\n",
       "      <th>1</th>\n",
       "      <td>очередной лохотрон. зачем придумывать очередно...</td>\n",
       "      <td>0</td>\n",
       "    </tr>\n",
       "    <tr>\n",
       "      <th>2</th>\n",
       "      <td>ретро дежавю ... сложно понять чужое сердце , ...</td>\n",
       "      <td>0</td>\n",
       "    </tr>\n",
       "    <tr>\n",
       "      <th>3</th>\n",
       "      <td>а когда мы статус агрогородка получили?</td>\n",
       "      <td>0</td>\n",
       "    </tr>\n",
       "    <tr>\n",
       "      <th>4</th>\n",
       "      <td>2 августа поздно вечером нашли вот такую потер...</td>\n",
       "      <td>0</td>\n",
       "    </tr>\n",
       "  </tbody>\n",
       "</table>\n",
       "</div>"
      ],
      "text/plain": [
       "                                                text type\n",
       "0  я сегодня проезжала по рабочей и между домами ...    0\n",
       "1  очередной лохотрон. зачем придумывать очередно...    0\n",
       "2  ретро дежавю ... сложно понять чужое сердце , ...    0\n",
       "3            а когда мы статус агрогородка получили?    0\n",
       "4  2 августа поздно вечером нашли вот такую потер...    0"
      ]
     },
     "execution_count": 6,
     "metadata": {},
     "output_type": "execute_result"
    }
   ],
   "source": [
    "df = pd.DataFrame(raw_data, columns=[\"text\", \"type\"])\n",
    "df.head()"
   ]
  },
  {
   "cell_type": "code",
   "execution_count": 7,
   "id": "15919cf5-5207-4f8a-94de-9a2e7d6764b6",
   "metadata": {},
   "outputs": [
    {
     "data": {
      "image/png": "[encoded data removed]",
      "text/plain": [
       "<Figure size 432x288 with 1 Axes>"
      ]
     },
     "metadata": {},
     "output_type": "display_data"
    }
   ],
   "source": [
    "plt.pie(df.type.value_counts(), labels=[0,1], autopct=\"%.2f\")\n",
    "None"
   ]
  },
  {
   "cell_type": "code",
   "execution_count": 8,
   "id": "08173709-9986-4fbf-acc3-307c5e813000",
   "metadata": {},
   "outputs": [
    {
     "data": {
      "text/plain": [
       "(89210,)"
      ]
     },
     "execution_count": 8,
     "metadata": {},
     "output_type": "execute_result"
    }
   ],
   "source": [
    "df.type.shape"
   ]
  },
  {
   "cell_type": "code",
   "execution_count": 9,
   "id": "a4bc2541-383b-4748-b681-792352d4f42f",
   "metadata": {},
   "outputs": [
    {
     "name": "stdout",
     "output_type": "stream",
     "text": [
      "Sum dublicated text: 2\n"
     ]
    }
   ],
   "source": [
    "print('Sum dublicated text:', df.duplicated().sum())"
   ]
  },
  {
   "cell_type": "code",
   "execution_count": 10,
   "id": "22502bb5-f61f-46f6-9533-b8c85c841553",
   "metadata": {},
   "outputs": [],
   "source": [
    "df = df.drop_duplicates()"
   ]
  },
  {
   "cell_type": "code",
   "execution_count": 11,
   "id": "1596c74d-740e-4145-aa65-3bf60ff5c5fd",
   "metadata": {},
   "outputs": [
    {
     "name": "stdout",
     "output_type": "stream",
     "text": [
      "Number of duplicate comments:  0\n"
     ]
    }
   ],
   "source": [
    "print('Number of duplicate comments: ', df['text'].duplicated().sum())"
   ]
  },
  {
   "cell_type": "markdown",
   "id": "d89d288b-bca7-4a67-b7f8-1c6d49ea33e9",
   "metadata": {},
   "source": [
    "## Tokenize text"
   ]
  },
  {
   "cell_type": "code",
   "execution_count": 12,
   "id": "22657f29-cb6b-46ec-930b-1f1b92116827",
   "metadata": {},
   "outputs": [],
   "source": [
    "import re\n",
    "import pymorphy2"
   ]
  },
  {
   "cell_type": "code",
   "execution_count": 13,
   "id": "83dd3c93-7a61-4b1e-9c21-ed7c404ac1dc",
   "metadata": {},
   "outputs": [],
   "source": [
    "def text_tokenizer(text: str):\n",
    "    morph = pymorphy2.MorphAnalyzer(lang='ru')\n",
    "    \n",
    "    text = text.lower().replace(\"ё\", \"е\")\n",
    "    text = re.sub('((www\\.[^\\s]+)|(https?://[^\\s]+))', '', text)\n",
    "    text = re.sub('@[^\\s]+', '', text)\n",
    "    text = re.sub('[^a-zA-Zа-яА-Я1-9]+', ' ', text)\n",
    "    text = re.sub(' +', ' ', text)\n",
    "    \n",
    "    tokenize = [token for token in nltk.word_tokenize(text)]\n",
    "    print(\"Tokenize: \", tokenize)\n",
    "    remove_stopW = [clear_txt for clear_txt in tokenize if clear_txt not in nltk.corpus.stopwords.words('russian')]\n",
    "    print()\n",
    "    print(\"Remove stop words: \", remove_stopW)\n",
    "    print()\n",
    "    morph_text = [morph.parse(m_text)[0].normal_form for m_text in remove_stopW]\n",
    "    \n",
    "    return morph_text"
   ]
  },
  {
   "cell_type": "code",
   "execution_count": 14,
   "id": "f5e005cb-03f8-4cfc-accd-4945f3479253",
   "metadata": {},
   "outputs": [
    {
     "name": "stdout",
     "output_type": "stream",
     "text": [
      "Tokenize:  ['я', 'сегодня', 'проезжала', 'по', 'рабочей', 'и', 'между', 'домами', 'снитенко', 'и', 'гомолысовой', 'магазином', 'на', 'пустыре', 'бежала', 'кошка', 'похожего', 'окраса', 'может', 'я', 'и', 'ошиблась', 'но', 'необычный', 'окрас', 'бросился', 'в', 'глаза']\n",
      "\n",
      "Remove stop words:  ['сегодня', 'проезжала', 'рабочей', 'домами', 'снитенко', 'гомолысовой', 'магазином', 'пустыре', 'бежала', 'кошка', 'похожего', 'окраса', 'ошиблась', 'необычный', 'окрас', 'бросился', 'глаза']\n",
      "\n"
     ]
    },
    {
     "data": {
      "text/plain": [
       "'сегодня проезжать рабочий дом снитенко гомолысов магазин пустырь бежать кошка похожий окрас ошибиться необычный окрас броситься глаз'"
      ]
     },
     "execution_count": 14,
     "metadata": {},
     "output_type": "execute_result"
    }
   ],
   "source": [
    "' '.join(text_tokenizer(df['text'][0]))"
   ]
  },
  {
   "cell_type": "code",
   "execution_count": 15,
   "id": "e85364de-4eeb-4c71-85e2-eb3f1523f2fd",
   "metadata": {},
   "outputs": [
    {
     "name": "stdout",
     "output_type": "stream",
     "text": [
      "\n",
      "Tokenize:  ['машинист', 'поезда', 'а123', 'говорит', 'дежурный', 'по', 'станции', 'комсомольск', '1']\n",
      "\n",
      "Remove stop words:  ['машинист', 'поезда', 'а123', 'говорит', 'дежурный', 'станции', 'комсомольск', '1']\n",
      "\n",
      "['машинист', 'поезд', 'а123', 'говорить', 'дежурный', 'станция', 'комсомольск', '1']\n"
     ]
    }
   ],
   "source": [
    "print()\n",
    "\n",
    "print(text_tokenizer('Машинист поезда А123! Говорит Дежурный по станции Комсомольск-1'))"
   ]
  },
  {
   "cell_type": "code",
   "execution_count": null,
   "id": "298bf573-cef9-449c-a3ff-fad9186f11ba",
   "metadata": {},
   "outputs": [],
   "source": [
    "normal_text = df['text'].apply(text_tokenizer)"
   ]
  },
  {
   "cell_type": "code",
   "execution_count": 16,
   "id": "5827a384-20c2-4eb4-b34b-9a5857d34a22",
   "metadata": {},
   "outputs": [
    {
     "name": "stdout",
     "output_type": "stream",
     "text": [
      "Tokenize:  ['машинист', 'поезда', 'а123', 'говорит', 'дежурный', 'по', 'станции', 'комсомольск', '1']\n",
      "\n",
      "Remove stop words:  ['машинист', 'поезда', 'а123', 'говорит', 'дежурный', 'станции', 'комсомольск', '1']\n",
      "\n"
     ]
    }
   ],
   "source": [
    "tf = TfidfVectorizer(tokenizer=text_tokenizer).fit_transform(['Машинист поезда А123! Говорит Дежурный по станции Комсомольск-1'])"
   ]
  },
  {
   "cell_type": "code",
   "execution_count": 17,
   "id": "5102ec56-2dcb-4d9e-9b4c-671c36d8e07a",
   "metadata": {},
   "outputs": [
    {
     "data": {
      "text/plain": [
       "array([[0.35355339, 0.35355339, 0.35355339, 0.35355339, 0.35355339,\n",
       "        0.35355339, 0.35355339, 0.35355339]])"
      ]
     },
     "execution_count": 17,
     "metadata": {},
     "output_type": "execute_result"
    }
   ],
   "source": [
    "tf.toarray()"
   ]
  },
  {
   "cell_type": "code",
   "execution_count": null,
   "id": "677d4a43-efd9-46ae-94cb-bed1a2fbac30",
   "metadata": {},
   "outputs": [],
   "source": []
  }
 ],
 "metadata": {
  "kernelspec": {
   "display_name": "Python 3 (ipykernel)",
   "language": "python",
   "name": "python3"
  },
  "language_info": {
   "codemirror_mode": {
    "name": "ipython",
    "version": 3
   },
   "file_extension": ".py",
   "mimetype": "text/x-python",
   "name": "python",
   "nbconvert_exporter": "python",
   "pygments_lexer": "ipython3",
   "version": "3.9.7"
  }
 },
 "nbformat": 4,
 "nbformat_minor": 5
}
